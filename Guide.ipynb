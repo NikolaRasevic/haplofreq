{
 "cells": [
  {
   "cell_type": "markdown",
   "metadata": {},
   "source": [
    "# EM Algorithm For Estimating Haplotype Frequencies\n",
    "\n",
    "The package containing the EM algorithm is called haplofreq. The algorithm is located in EM.py. The package also includes 7 example .ped datasets. The function of the package: haplofreq(), takes .ped datasets (in a Pandas dataframe) as input, and outputs all the possible haplotype combinations as well as their estimated frequencies. In this tutotrial, haplotype frequencies will be estimated for three different datasets containing 2, 3 and 4 SNPs respectively. All .ped datasets contain 6 individuals. The first 6 columns of the .ped datasets are irrelevant, as they are omitted from the algorithm. Additionally, a plot is produced to show the efficiency of the algorithm.\n",
    "\n",
    "Note: only bi-allelic snps can be contained in the .ped datasets. Furthermore, there can be no missing data."
   ]
  },
  {
   "cell_type": "markdown",
   "metadata": {},
   "source": [
    "Importing Packages\n",
    "\n",
    "haplofreq is the package, and EM.py is the code for estimating haplotype frequencies. Pandas is required to read in the .ped datasets. time, numpy and matplotlib.pyplot are not required, but are used to illustrate the algorithm efficiency."
   ]
  },
  {
   "cell_type": "code",
   "execution_count": 1,
   "metadata": {},
   "outputs": [],
   "source": [
    "from haplofreq.EM import haplofreq\n",
    "import pandas as pd\n",
    "import time\n",
    "import numpy as np\n",
    "import matplotlib.pyplot as plt"
   ]
  },
  {
   "cell_type": "markdown",
   "metadata": {},
   "source": [
    "Using the help function on the haplofreq function."
   ]
  },
  {
   "cell_type": "code",
   "execution_count": 2,
   "metadata": {},
   "outputs": [
    {
     "name": "stdout",
     "output_type": "stream",
     "text": [
      "Help on function haplofreq in module haplofreq.EM:\n",
      "\n",
      "haplofreq(peddf)\n",
      "    haplofreq: Software for Determining all Possible Haplotypes and their Estimated Frequencies. \n",
      "    \n",
      "    Description \n",
      "    \n",
      "    haplofreq() is a function that outputs all possible haplotypes as well as their respective frequencies\n",
      "    for a given inputted genotype dataset. This is accomplished using an EM algorithm developed by Excoffier and \n",
      "    Slatkin (1995). \n",
      "    \n",
      "    Usage \n",
      "    \n",
      "    haplofreq(peddf) \n",
      "    \n",
      "    Arguments \n",
      "    \n",
      "    peddf       A .ped file that is read as a Pandas dataframe. The data must not contain any missing genotype data and \n",
      "                must only contain bi-allelic SNPs. \n",
      "    \n",
      "    Details \n",
      "    \n",
      "    The algorithm was developed by Excoffier and Slatkin (1995), and takes advantage of the Expectation-Maximization\n",
      "    algorithm. The expectation step produces a vector of genotype probabilities for all possible genotypes and the\n",
      "    maximization step consists of estimating the haplotype frequencies for all possible haplotypes using a \n",
      "    gene-counting method. The haplofreq function is computationally intensive and it is not recommended that datasets\n",
      "    containing more than roughly 10 SNPs be inputted into the function.\n",
      "    \n",
      "    Output \n",
      "    \n",
      "    A table of all possible haplotypes and haplotype frequencies is outputted. The first column represents the haplotypes\n",
      "    in square brackets. The second column represents the respective haplotype frequencies estimated by the EM algorithm. \n",
      "    \n",
      "    Example \n",
      "    \n",
      "    data = pd.read_csv(\"haplofreq\\2snps.ped\", delim_whitespace=True, header = None)\n",
      "    haplofreq(data)\n",
      "\n"
     ]
    }
   ],
   "source": [
    "help(haplofreq)"
   ]
  },
  {
   "cell_type": "markdown",
   "metadata": {},
   "source": [
    "Estimating haplotype frequencies of a .ped file containing 2 SNPs."
   ]
  },
  {
   "cell_type": "code",
   "execution_count": 3,
   "metadata": {},
   "outputs": [
    {
     "data": {
      "text/html": [
       "<div>\n",
       "<style scoped>\n",
       "    .dataframe tbody tr th:only-of-type {\n",
       "        vertical-align: middle;\n",
       "    }\n",
       "\n",
       "    .dataframe tbody tr th {\n",
       "        vertical-align: top;\n",
       "    }\n",
       "\n",
       "    .dataframe thead th {\n",
       "        text-align: right;\n",
       "    }\n",
       "</style>\n",
       "<table border=\"1\" class=\"dataframe\">\n",
       "  <thead>\n",
       "    <tr style=\"text-align: right;\">\n",
       "      <th></th>\n",
       "      <th>Haplotypes</th>\n",
       "      <th>Frequency</th>\n",
       "    </tr>\n",
       "  </thead>\n",
       "  <tbody>\n",
       "    <tr>\n",
       "      <th>0</th>\n",
       "      <td>[G, C]</td>\n",
       "      <td>0.5</td>\n",
       "    </tr>\n",
       "    <tr>\n",
       "      <th>1</th>\n",
       "      <td>[G, T]</td>\n",
       "      <td>0.166667</td>\n",
       "    </tr>\n",
       "    <tr>\n",
       "      <th>2</th>\n",
       "      <td>[T, C]</td>\n",
       "      <td>1.38533e-07</td>\n",
       "    </tr>\n",
       "    <tr>\n",
       "      <th>3</th>\n",
       "      <td>[T, T]</td>\n",
       "      <td>0.333333</td>\n",
       "    </tr>\n",
       "  </tbody>\n",
       "</table>\n",
       "</div>"
      ],
      "text/plain": [
       "  Haplotypes    Frequency\n",
       "0     [G, C]          0.5\n",
       "1     [G, T]     0.166667\n",
       "2     [T, C]  1.38533e-07\n",
       "3     [T, T]     0.333333"
      ]
     },
     "execution_count": 3,
     "metadata": {},
     "output_type": "execute_result"
    }
   ],
   "source": [
    "data = pd.read_csv(\"haplofreq\\\\2snps.ped\", delim_whitespace=True, header = None)\n",
    "haplofreq(data)"
   ]
  },
  {
   "cell_type": "markdown",
   "metadata": {},
   "source": [
    "Estimating haplotype frequencies of a .ped file containing 3 SNPs."
   ]
  },
  {
   "cell_type": "code",
   "execution_count": 4,
   "metadata": {},
   "outputs": [
    {
     "data": {
      "text/html": [
       "<div>\n",
       "<style scoped>\n",
       "    .dataframe tbody tr th:only-of-type {\n",
       "        vertical-align: middle;\n",
       "    }\n",
       "\n",
       "    .dataframe tbody tr th {\n",
       "        vertical-align: top;\n",
       "    }\n",
       "\n",
       "    .dataframe thead th {\n",
       "        text-align: right;\n",
       "    }\n",
       "</style>\n",
       "<table border=\"1\" class=\"dataframe\">\n",
       "  <thead>\n",
       "    <tr style=\"text-align: right;\">\n",
       "      <th></th>\n",
       "      <th>Haplotypes</th>\n",
       "      <th>Frequency</th>\n",
       "    </tr>\n",
       "  </thead>\n",
       "  <tbody>\n",
       "    <tr>\n",
       "      <th>0</th>\n",
       "      <td>[G, C, A]</td>\n",
       "      <td>0.5</td>\n",
       "    </tr>\n",
       "    <tr>\n",
       "      <th>1</th>\n",
       "      <td>[G, C, T]</td>\n",
       "      <td>4.11295e-08</td>\n",
       "    </tr>\n",
       "    <tr>\n",
       "      <th>2</th>\n",
       "      <td>[G, T, A]</td>\n",
       "      <td>0.0833334</td>\n",
       "    </tr>\n",
       "    <tr>\n",
       "      <th>3</th>\n",
       "      <td>[G, T, T]</td>\n",
       "      <td>0.0833334</td>\n",
       "    </tr>\n",
       "    <tr>\n",
       "      <th>4</th>\n",
       "      <td>[T, C, A]</td>\n",
       "      <td>4.11295e-08</td>\n",
       "    </tr>\n",
       "    <tr>\n",
       "      <th>5</th>\n",
       "      <td>[T, C, T]</td>\n",
       "      <td>4.11295e-08</td>\n",
       "    </tr>\n",
       "    <tr>\n",
       "      <th>6</th>\n",
       "      <td>[T, T, A]</td>\n",
       "      <td>0.0833334</td>\n",
       "    </tr>\n",
       "    <tr>\n",
       "      <th>7</th>\n",
       "      <td>[T, T, T]</td>\n",
       "      <td>0.25</td>\n",
       "    </tr>\n",
       "  </tbody>\n",
       "</table>\n",
       "</div>"
      ],
      "text/plain": [
       "  Haplotypes    Frequency\n",
       "0  [G, C, A]          0.5\n",
       "1  [G, C, T]  4.11295e-08\n",
       "2  [G, T, A]    0.0833334\n",
       "3  [G, T, T]    0.0833334\n",
       "4  [T, C, A]  4.11295e-08\n",
       "5  [T, C, T]  4.11295e-08\n",
       "6  [T, T, A]    0.0833334\n",
       "7  [T, T, T]         0.25"
      ]
     },
     "execution_count": 4,
     "metadata": {},
     "output_type": "execute_result"
    }
   ],
   "source": [
    "data = pd.read_csv(\"haplofreq\\\\3snps.ped\", delim_whitespace=True, header = None)\n",
    "haplofreq(data)"
   ]
  },
  {
   "cell_type": "markdown",
   "metadata": {},
   "source": [
    "Estimating haplotype frequencies of a .ped file containing 4 SNPs."
   ]
  },
  {
   "cell_type": "code",
   "execution_count": 5,
   "metadata": {},
   "outputs": [
    {
     "data": {
      "text/html": [
       "<div>\n",
       "<style scoped>\n",
       "    .dataframe tbody tr th:only-of-type {\n",
       "        vertical-align: middle;\n",
       "    }\n",
       "\n",
       "    .dataframe tbody tr th {\n",
       "        vertical-align: top;\n",
       "    }\n",
       "\n",
       "    .dataframe thead th {\n",
       "        text-align: right;\n",
       "    }\n",
       "</style>\n",
       "<table border=\"1\" class=\"dataframe\">\n",
       "  <thead>\n",
       "    <tr style=\"text-align: right;\">\n",
       "      <th></th>\n",
       "      <th>Haplotypes</th>\n",
       "      <th>Frequency</th>\n",
       "    </tr>\n",
       "  </thead>\n",
       "  <tbody>\n",
       "    <tr>\n",
       "      <th>0</th>\n",
       "      <td>[G, C, A, G]</td>\n",
       "      <td>1.88298e-07</td>\n",
       "    </tr>\n",
       "    <tr>\n",
       "      <th>1</th>\n",
       "      <td>[G, C, A, T]</td>\n",
       "      <td>0.5</td>\n",
       "    </tr>\n",
       "    <tr>\n",
       "      <th>2</th>\n",
       "      <td>[G, C, T, G]</td>\n",
       "      <td>3.65688e-14</td>\n",
       "    </tr>\n",
       "    <tr>\n",
       "      <th>3</th>\n",
       "      <td>[G, C, T, T]</td>\n",
       "      <td>7.01702e-12</td>\n",
       "    </tr>\n",
       "    <tr>\n",
       "      <th>4</th>\n",
       "      <td>[G, T, A, G]</td>\n",
       "      <td>0.0416667</td>\n",
       "    </tr>\n",
       "    <tr>\n",
       "      <th>5</th>\n",
       "      <td>[G, T, A, T]</td>\n",
       "      <td>0.0416667</td>\n",
       "    </tr>\n",
       "    <tr>\n",
       "      <th>6</th>\n",
       "      <td>[G, T, T, G]</td>\n",
       "      <td>1.5379e-79</td>\n",
       "    </tr>\n",
       "    <tr>\n",
       "      <th>7</th>\n",
       "      <td>[G, T, T, T]</td>\n",
       "      <td>0.0833333</td>\n",
       "    </tr>\n",
       "    <tr>\n",
       "      <th>8</th>\n",
       "      <td>[T, C, A, G]</td>\n",
       "      <td>1.14334e-10</td>\n",
       "    </tr>\n",
       "    <tr>\n",
       "      <th>9</th>\n",
       "      <td>[T, C, A, T]</td>\n",
       "      <td>1.85707e-14</td>\n",
       "    </tr>\n",
       "    <tr>\n",
       "      <th>10</th>\n",
       "      <td>[T, C, T, G]</td>\n",
       "      <td>3.65688e-14</td>\n",
       "    </tr>\n",
       "    <tr>\n",
       "      <th>11</th>\n",
       "      <td>[T, C, T, T]</td>\n",
       "      <td>7.01702e-12</td>\n",
       "    </tr>\n",
       "    <tr>\n",
       "      <th>12</th>\n",
       "      <td>[T, T, A, G]</td>\n",
       "      <td>0.0416667</td>\n",
       "    </tr>\n",
       "    <tr>\n",
       "      <th>13</th>\n",
       "      <td>[T, T, A, T]</td>\n",
       "      <td>0.0416667</td>\n",
       "    </tr>\n",
       "    <tr>\n",
       "      <th>14</th>\n",
       "      <td>[T, T, T, G]</td>\n",
       "      <td>0.0833331</td>\n",
       "    </tr>\n",
       "    <tr>\n",
       "      <th>15</th>\n",
       "      <td>[T, T, T, T]</td>\n",
       "      <td>0.166667</td>\n",
       "    </tr>\n",
       "  </tbody>\n",
       "</table>\n",
       "</div>"
      ],
      "text/plain": [
       "      Haplotypes    Frequency\n",
       "0   [G, C, A, G]  1.88298e-07\n",
       "1   [G, C, A, T]          0.5\n",
       "2   [G, C, T, G]  3.65688e-14\n",
       "3   [G, C, T, T]  7.01702e-12\n",
       "4   [G, T, A, G]    0.0416667\n",
       "5   [G, T, A, T]    0.0416667\n",
       "6   [G, T, T, G]   1.5379e-79\n",
       "7   [G, T, T, T]    0.0833333\n",
       "8   [T, C, A, G]  1.14334e-10\n",
       "9   [T, C, A, T]  1.85707e-14\n",
       "10  [T, C, T, G]  3.65688e-14\n",
       "11  [T, C, T, T]  7.01702e-12\n",
       "12  [T, T, A, G]    0.0416667\n",
       "13  [T, T, A, T]    0.0416667\n",
       "14  [T, T, T, G]    0.0833331\n",
       "15  [T, T, T, T]     0.166667"
      ]
     },
     "execution_count": 5,
     "metadata": {},
     "output_type": "execute_result"
    }
   ],
   "source": [
    "data = pd.read_csv(\"haplofreq\\\\4snps.ped\", delim_whitespace=True, header = None)\n",
    "haplofreq(data)"
   ]
  },
  {
   "cell_type": "markdown",
   "metadata": {},
   "source": [
    "A plot illustrating the time it takes for importing data and running haplofreq() for various datasets with differing number of SNPs."
   ]
  },
  {
   "cell_type": "code",
   "execution_count": 6,
   "metadata": {},
   "outputs": [
    {
     "data": {
      "text/plain": [
       "Text(0, 0.5, 'Time (Seconds)')"
      ]
     },
     "execution_count": 6,
     "metadata": {},
     "output_type": "execute_result"
    },
    {
     "data": {
      "image/png": "[encoded data removed]",
      "text/plain": [
       "<Figure size 432x288 with 1 Axes>"
      ]
     },
     "metadata": {
      "needs_background": "light"
     },
     "output_type": "display_data"
    }
   ],
   "source": [
    "timer = np.zeros(7)\n",
    "\n",
    "for i in range(len(timer)):\n",
    "    start_time = time.time()\n",
    "    data = pd.read_csv(\"haplofreq\\\\\" + str(i+1) + \"snps.ped\", delim_whitespace=True, header = None)\n",
    "    haplofreq(data)\n",
    "    timer[i] = time.time() - start_time\n",
    "\n",
    "plt.plot(np.array([1,2,3,4,5,6,7]), timer)\n",
    "plt.title(\"Time (Seconds) vs. Number of SNPs\")\n",
    "plt.xlabel(\"Number of SNPs\")\n",
    "plt.ylabel(\"Time (Seconds)\")"
   ]
  },
  {
   "cell_type": "code",
   "execution_count": null,
   "metadata": {},
   "outputs": [],
   "source": []
  }
 ],
 "metadata": {
  "kernelspec": {
   "display_name": "Python 3",
   "language": "python",
   "name": "python3"
  },
  "language_info": {
   "codemirror_mode": {
    "name": "ipython",
    "version": 3
   },
   "file_extension": ".py",
   "mimetype": "text/x-python",
   "name": "python",
   "nbconvert_exporter": "python",
   "pygments_lexer": "ipython3",
   "version": "3.8.3"
  }
 },
 "nbformat": 4,
 "nbformat_minor": 4
}
